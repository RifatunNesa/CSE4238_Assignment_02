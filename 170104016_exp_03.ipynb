{
  "nbformat": 4,
  "nbformat_minor": 0,
  "metadata": {
    "colab": {
      "name": "170104016_exp_03.ipynb",
      "provenance": [],
      "collapsed_sections": []
    },
    "kernelspec": {
      "name": "python3",
      "display_name": "Python 3"
    },
    "language_info": {
      "name": "python"
    }
  },
  "cells": [
    {
      "cell_type": "markdown",
      "metadata": {
        "id": "cb01-3rtAAKl"
      },
      "source": [
        "170104016_exp_03"
      ]
    },
    {
      "cell_type": "code",
      "metadata": {
        "id": "CaxRO6DdHkvD"
      },
      "source": [
        "import torch\n",
        "import torch.nn as nn\n",
        "import torch.nn.functional as F\n",
        "import torchvision\n",
        "import torchvision.transforms as transforms\n",
        "import pandas as pd \n",
        "import numpy as np\n",
        "import matplotlib.pyplot as plt \n",
        "from sklearn.model_selection import train_test_split"
      ],
      "execution_count": 2,
      "outputs": []
    },
    {
      "cell_type": "code",
      "metadata": {
        "colab": {
          "base_uri": "https://localhost:8080/"
        },
        "id": "XL3k4gsFMGhL",
        "outputId": "12ddef68-6f15-477a-e710-cbf5de52e578"
      },
      "source": [
        "from google.colab import drive\n",
        "drive.mount('/content/gdrive')"
      ],
      "execution_count": null,
      "outputs": [
        {
          "output_type": "stream",
          "name": "stdout",
          "text": [
            "Mounted at /content/gdrive\n"
          ]
        }
      ]
    },
    {
      "cell_type": "code",
      "metadata": {
        "id": "OU05tR2BMqxr"
      },
      "source": [
        "test_data =pd.read_csv('/content/gdrive/MyDrive/softcom_assignment2/Dataset_2/Dataset_2/verification_test.csv')\n",
        "train_data = pd.read_csv('/content/gdrive/MyDrive/softcom_assignment2/Dataset_2/Dataset_2/verification_train.csv')"
      ],
      "execution_count": null,
      "outputs": []
    },
    {
      "cell_type": "code",
      "metadata": {
        "id": "odvlqc-otpTD"
      },
      "source": [
        "test_label=test_data['label']\n",
        "\n",
        "train_label=train_data['label']\n",
        "data_names=[test_label,train_label]\n",
        "all_labels=pd.concat(data_names,ignore_index=True)"
      ],
      "execution_count": null,
      "outputs": []
    },
    {
      "cell_type": "code",
      "metadata": {
        "colab": {
          "base_uri": "https://localhost:8080/"
        },
        "id": "G6qEkYpHuHWu",
        "outputId": "09206d06-9c2c-4e0e-ebc9-fa868432f1d9"
      },
      "source": [
        "data_name=[test_data,train_data]\n",
        "all_image=pd.concat(data_name,ignore_index=True)\n",
        "all_image=all_image.drop(labels='label',axis=1)\n",
        "\n",
        "print(all_image.shape)\n"
      ],
      "execution_count": null,
      "outputs": [
        {
          "output_type": "stream",
          "name": "stdout",
          "text": [
            "(70000, 784)\n"
          ]
        }
      ]
    },
    {
      "cell_type": "code",
      "metadata": {
        "id": "sMxidVFuuZJv"
      },
      "source": [
        "all_image=all_image/255.0\n",
        "all_image=all_image.values.reshape(-1,28,28)"
      ],
      "execution_count": null,
      "outputs": []
    },
    {
      "cell_type": "code",
      "metadata": {
        "colab": {
          "base_uri": "https://localhost:8080/",
          "height": 282
        },
        "id": "2VT707HIwswc",
        "outputId": "b0594052-dc40-40ea-85c0-97eba9793651"
      },
      "source": [
        "import matplotlib.pyplot as plt \n",
        "import numpy as np\n",
        "\n",
        "show_img = all_image[0].reshape(28, 28)\n",
        "plt.imshow(show_img, cmap='gray')\n",
        "\n",
        "print(all_labels[0])\n"
      ],
      "execution_count": null,
      "outputs": [
        {
          "output_type": "stream",
          "name": "stdout",
          "text": [
            "0\n"
          ]
        },
        {
          "output_type": "display_data",
          "data": {
            "image/png": "[encoded data removed]",
            "text/plain": [
              "<Figure size 432x288 with 1 Axes>"
            ]
          },
          "metadata": {
            "needs_background": "light"
          }
        }
      ]
    },
    {
      "cell_type": "code",
      "metadata": {
        "id": "x-nMcimGxORN"
      },
      "source": [
        "X_train, X_test, y_train, y_test = train_test_split(all_image, all_labels, test_size=0.2)"
      ],
      "execution_count": null,
      "outputs": []
    },
    {
      "cell_type": "code",
      "metadata": {
        "id": "KfOMAT3PxwNk"
      },
      "source": [
        "train_dataset = list(zip(X_train,y_train))\n",
        "test_dataset = list(zip(X_test,y_test))"
      ],
      "execution_count": null,
      "outputs": []
    },
    {
      "cell_type": "code",
      "metadata": {
        "id": "YSvKLXtQWOkH"
      },
      "source": [
        "import torch\n",
        "import torch.nn as nn\n",
        "import torchvision.transforms as transforms\n",
        "import torchvision.datasets as dsets\n",
        "\n",
        "# Hyperparameters\n",
        "batch_size = 20\n",
        "num_iters = 20000\n",
        "input_dim = 28*28 # num_features = 784\n",
        "num_hidden = 200\n",
        "output_dim = 10\n",
        "num_epochs = num_iters / (len(train_dataset) / batch_size)\n",
        "num_epochs = int(num_epochs)\n",
        "learning_rate = 0.01\n",
        "\n",
        "# Device\n",
        "device = torch.device(\"cuda:0\" if torch.cuda.is_available() else \"cpu\")\n",
        "\n",
        "\n",
        "\n",
        "\n",
        "num_epochs = num_iters / (len(train_dataset) / batch_size)\n",
        "num_epochs = int(num_epochs)\n",
        "\n",
        "train_loader = torch.utils.data.DataLoader(dataset=train_dataset, \n",
        "                                           batch_size=batch_size, \n",
        "                                           shuffle=True)   # It's better to shuffle the whole training dataset! \n",
        "\n",
        "test_loader = torch.utils.data.DataLoader(dataset=test_dataset, \n",
        "                                          batch_size=batch_size, \n",
        "                                          shuffle=False) "
      ],
      "execution_count": null,
      "outputs": []
    },
    {
      "cell_type": "code",
      "metadata": {
        "colab": {
          "base_uri": "https://localhost:8080/"
        },
        "id": "U1QLHwJ1Wehn",
        "outputId": "f63dc522-88d3-4725-88a5-212a68d0aa09"
      },
      "source": [
        "class DeepNeuralNetworkModel(nn.Module):\n",
        "    def __init__(self, input_size, num_classes, num_hidden):\n",
        "        super().__init__()\n",
        "      \n",
        "        self.linear_1 = nn.Linear(input_size, num_hidden)\n",
        "       \n",
        "        self.relu_1 = nn.ReLU()\n",
        "\n",
        "        \n",
        "        self.linear_2 = nn.Linear(num_hidden, num_hidden)\n",
        "       \n",
        "        self.relu_2 = nn.ReLU()\n",
        "\n",
        "        self.linear_3 = nn.Linear(num_hidden, num_hidden)\n",
        "      \n",
        "        self.relu_3 = nn.ReLU()\n",
        "\n",
        "        self.linear_4 = nn.Linear(num_hidden, num_hidden)\n",
        "        \n",
        "        self.relu_4 = nn.ReLU()\n",
        " \n",
        "         \n",
        "        self.linear_5= nn.Linear(num_hidden, num_hidden)\n",
        "        \n",
        "        self.relu_5= nn.ReLU()\n",
        " \n",
        "         \n",
        "        self.linear_6 = nn.Linear(num_hidden, num_hidden)\n",
        "        \n",
        "        self.relu_6 = nn.ReLU()\n",
        "\n",
        "        ### Output layer: 100 --> 10\n",
        "        self.linear_out = nn.Linear(num_hidden, num_classes)\n",
        "\n",
        "    def forward(self, x):\n",
        "        ### 1st hidden layer\n",
        "        out  = self.linear_1(x)\n",
        "        ### Non-linearity in 1st hidden layer\n",
        "        out = self.relu_1(out)\n",
        "        \n",
        "        ### 2nd hidden layer\n",
        "        out  = self.linear_2(out)\n",
        "        ### Non-linearity in 2nd hidden layer\n",
        "        out = self.relu_2(out)\n",
        "\n",
        "        ### 3rd hidden layer\n",
        "        out  = self.linear_3(out)\n",
        "        ### Non-linearity in 3rd hidden layer\n",
        "        out = self.relu_3(out)\n",
        "\n",
        "        out  = self.linear_4(out)\n",
        "        ### Non-linearity in 3rd hidden layer\n",
        "        out = self.relu_4(out)\n",
        " \n",
        "        out  = self.linear_5(out)\n",
        "        ### Non-linearity in 3rd hidden layer\n",
        "        out = self.relu_5(out)\n",
        " \n",
        "        out  = self.linear_6(out)\n",
        "        ### Non-linearity in 3rd hidden layer\n",
        "        out = self.relu_6(out)\n",
        "\n",
        "        \n",
        "\n",
        "        # Linear layer (output)\n",
        "        probas  = self.linear_out(out)\n",
        "        return probas\n",
        "\n",
        "# INSTANTIATE MODEL CLASS\n",
        "\n",
        "model = DeepNeuralNetworkModel(input_size = input_dim,\n",
        "                               num_classes = output_dim,\n",
        "                               num_hidden = 128)\n",
        "# To enable GPU\n",
        "model.to(device)\n",
        "\n",
        "# INSTANTIATE LOSS & OPTIMIZER CLASS\n",
        "\n",
        "criterion = nn.CrossEntropyLoss()\n",
        "optimizer = torch.optim.Adam(model.parameters(), lr=learning_rate)\n",
        "iteration_loss = []\n",
        "iter = 0\n",
        "for epoch in range(num_epochs):\n",
        "    for i, (images, labels) in enumerate(train_loader):\n",
        "\n",
        "        images = images.view(-1, 28*28).to(device)\n",
        "        labels = labels.to(device)\n",
        "\n",
        "        # Clear gradients w.r.t. parameters\n",
        "        optimizer.zero_grad()\n",
        "\n",
        "        # Forward pass to get output/logits\n",
        "        outputs = model(images.float())\n",
        "\n",
        "        # Calculate Loss: softmax --> cross entropy loss\n",
        "        loss = criterion(outputs, labels)\n",
        "\n",
        "        # Getting gradients w.r.t. parameters\n",
        "        loss.backward()\n",
        "\n",
        "        # Updating parameters\n",
        "        optimizer.step()\n",
        "\n",
        "        iter += 1\n",
        "\n",
        "        if iter % 500 == 0:\n",
        "            # Calculate Accuracy         \n",
        "            correct = 0\n",
        "            total = 0\n",
        "            # Iterate through test dataset\n",
        "            for images, labels in test_loader:\n",
        "               \n",
        "                images = images.view(-1, 28*28).to(device)\n",
        "\n",
        "                # Forward pass only to get logits/output\n",
        "                outputs = model(images.float())\n",
        "\n",
        "                # Get predictions from the maximum value\n",
        "                _, predicted = torch.max(outputs, 1)\n",
        "\n",
        "                # Total number of labels\n",
        "                total += labels.size(0)\n",
        "\n",
        "\n",
        "                # Total correct predictions\n",
        "                if torch.cuda.is_available():\n",
        "                    correct += (predicted.cpu() == labels.cpu()).sum() \n",
        "                else:\n",
        "                    correct += (predicted == labels).sum()\n",
        "\n",
        "            accuracy = 100 * correct.item() / total\n",
        "             \n",
        " \n",
        "            # Print Loss\n",
        "            iteration_loss.append(loss.item())\n",
        "        \n",
        "           \n",
        "            print('Iteration: {}. Loss: {}. Accuracy: {}'.format(iter, loss.item(), accuracy))"
      ],
      "execution_count": null,
      "outputs": [
        {
          "output_type": "stream",
          "name": "stdout",
          "text": [
            "Iteration: 500. Loss: 0.7960904240608215. Accuracy: 60.042857142857144\n",
            "Iteration: 1000. Loss: 1.0321934223175049. Accuracy: 63.5\n",
            "Iteration: 1500. Loss: 0.6827553510665894. Accuracy: 70.27142857142857\n",
            "Iteration: 2000. Loss: 0.5124462842941284. Accuracy: 66.81428571428572\n",
            "Iteration: 2500. Loss: 1.1193963289260864. Accuracy: 67.92142857142858\n",
            "Iteration: 3000. Loss: 0.4922482371330261. Accuracy: 71.48571428571428\n",
            "Iteration: 3500. Loss: 1.294851303100586. Accuracy: 73.45714285714286\n",
            "Iteration: 4000. Loss: 1.0517929792404175. Accuracy: 74.68571428571428\n",
            "Iteration: 4500. Loss: 0.7442554235458374. Accuracy: 77.47142857142858\n",
            "Iteration: 5000. Loss: 0.7138657569885254. Accuracy: 78.73571428571428\n",
            "Iteration: 5500. Loss: 1.024087905883789. Accuracy: 69.7\n",
            "Iteration: 6000. Loss: 1.1097242832183838. Accuracy: 75.75714285714285\n",
            "Iteration: 6500. Loss: 0.48004859685897827. Accuracy: 75.61428571428571\n",
            "Iteration: 7000. Loss: 0.7450129389762878. Accuracy: 77.20714285714286\n",
            "Iteration: 7500. Loss: 0.9235461354255676. Accuracy: 71.65\n",
            "Iteration: 8000. Loss: 0.5630435943603516. Accuracy: 74.08571428571429\n",
            "Iteration: 8500. Loss: 1.4123257398605347. Accuracy: 70.90714285714286\n",
            "Iteration: 9000. Loss: 0.45887866616249084. Accuracy: 72.85\n",
            "Iteration: 9500. Loss: 0.6791227459907532. Accuracy: 73.52142857142857\n",
            "Iteration: 10000. Loss: 0.4634679853916168. Accuracy: 78.99285714285715\n",
            "Iteration: 10500. Loss: 0.4253509044647217. Accuracy: 80.92857142857143\n",
            "Iteration: 11000. Loss: 0.28365808725357056. Accuracy: 77.48571428571428\n",
            "Iteration: 11500. Loss: 0.3924064040184021. Accuracy: 78.15\n",
            "Iteration: 12000. Loss: 1.0612858533859253. Accuracy: 73.6\n",
            "Iteration: 12500. Loss: 0.4748400151729584. Accuracy: 74.92857142857143\n",
            "Iteration: 13000. Loss: 0.749406099319458. Accuracy: 77.3\n",
            "Iteration: 13500. Loss: 0.4813153147697449. Accuracy: 76.47142857142858\n",
            "Iteration: 14000. Loss: 0.6602880358695984. Accuracy: 73.90714285714286\n",
            "Iteration: 14500. Loss: 0.6869953870773315. Accuracy: 80.05714285714286\n",
            "Iteration: 15000. Loss: 0.5112091302871704. Accuracy: 76.05714285714286\n",
            "Iteration: 15500. Loss: 0.7431434392929077. Accuracy: 78.51428571428572\n",
            "Iteration: 16000. Loss: 0.5781450271606445. Accuracy: 77.95714285714286\n",
            "Iteration: 16500. Loss: 0.6042893528938293. Accuracy: 79.48571428571428\n",
            "Iteration: 17000. Loss: 0.33918944001197815. Accuracy: 76.95714285714286\n",
            "Iteration: 17500. Loss: 0.6356598138809204. Accuracy: 78.2\n",
            "Iteration: 18000. Loss: 0.6459554433822632. Accuracy: 78.3\n",
            "Iteration: 18500. Loss: 1.0824048519134521. Accuracy: 73.31428571428572\n",
            "Iteration: 19000. Loss: 0.80217444896698. Accuracy: 69.45714285714286\n",
            "Iteration: 19500. Loss: 0.9491372108459473. Accuracy: 60.48571428571429\n"
          ]
        }
      ]
    },
    {
      "cell_type": "code",
      "metadata": {
        "colab": {
          "base_uri": "https://localhost:8080/",
          "height": 279
        },
        "id": "DFOJ3i5DYbc3",
        "outputId": "d9459c8c-9e13-4238-9740-e8b97ff7623c"
      },
      "source": [
        "plt.plot(iteration_loss)\n",
        "plt.ylabel('Cross Entropy Loss')\n",
        "plt.xlabel('Iteration (in every 500)')\n",
        "plt.show()"
      ],
      "execution_count": null,
      "outputs": [
        {
          "output_type": "display_data",
          "data": {
            "image/png": "[encoded data removed]",
            "text/plain": [
              "<Figure size 432x288 with 1 Axes>"
            ]
          },
          "metadata": {
            "needs_background": "light"
          }
        }
      ]
    },
    {
      "cell_type": "markdown",
      "metadata": {
        "id": "swzuhgeEALft"
      },
      "source": [
        "170104016_exp_03_01"
      ]
    },
    {
      "cell_type": "code",
      "metadata": {
        "id": "YzwC9K7mZMzm"
      },
      "source": [
        "import torch\n",
        "import torch.nn as nn\n",
        "import torchvision.transforms as transforms\n",
        "import torchvision.datasets as dsets\n",
        "\n",
        "# Hyperparameters\n",
        "batch_size = 100\n",
        "num_iters = 30000\n",
        "input_dim = 28*28 # num_features = 784\n",
        "num_hidden = 200\n",
        "output_dim = 10\n",
        "num_epochs = num_iters / (len(train_dataset) / batch_size)\n",
        "num_epochs = int(num_epochs)\n",
        "learning_rate = 0.01\n",
        "\n",
        "# Device\n",
        "device = torch.device(\"cuda:0\" if torch.cuda.is_available() else \"cpu\")\n",
        "\n",
        "\n",
        "\n",
        "\n",
        "num_epochs = num_iters / (len(train_dataset) / batch_size)\n",
        "num_epochs = int(num_epochs)\n",
        "\n",
        "train_loader = torch.utils.data.DataLoader(dataset=train_dataset, \n",
        "                                           batch_size=batch_size, \n",
        "                                           shuffle=True)   # It's better to shuffle the whole training dataset! \n",
        "\n",
        "test_loader = torch.utils.data.DataLoader(dataset=test_dataset, \n",
        "                                          batch_size=batch_size, \n",
        "                                          shuffle=False) "
      ],
      "execution_count": null,
      "outputs": []
    },
    {
      "cell_type": "code",
      "metadata": {
        "colab": {
          "base_uri": "https://localhost:8080/"
        },
        "id": "CgW9DJcIZdBk",
        "outputId": "05c98337-d0f4-4d69-9fd2-5fdf6f0e5e8f"
      },
      "source": [
        "class DeepNeuralNetworkModel(nn.Module):\n",
        "    def __init__(self, input_size, num_classes, num_hidden):\n",
        "        super().__init__()\n",
        "      \n",
        "        self.linear_1 = nn.Linear(input_size, num_hidden)\n",
        "       \n",
        "        self.relu_1 = nn.ReLU()\n",
        "\n",
        "        \n",
        "        self.linear_2 = nn.Linear(num_hidden, num_hidden)\n",
        "       \n",
        "        self.relu_2 = nn.ReLU()\n",
        "\n",
        "        self.linear_3 = nn.Linear(num_hidden, num_hidden)\n",
        "      \n",
        "        self.relu_3 = nn.ReLU()\n",
        "\n",
        "        self.linear_4 = nn.Linear(num_hidden, num_hidden)\n",
        "        \n",
        "        self.relu_4 = nn.ReLU()\n",
        " \n",
        "         \n",
        "        self.linear_5= nn.Linear(num_hidden, num_hidden)\n",
        "        \n",
        "        self.relu_5= nn.ReLU()\n",
        " \n",
        "        ### Output layer: 100 --> 10\n",
        "        self.linear_out = nn.Linear(num_hidden, num_classes)\n",
        "\n",
        "    def forward(self, x):\n",
        "        ### 1st hidden layer\n",
        "        out  = self.linear_1(x)\n",
        "        ### Non-linearity in 1st hidden layer\n",
        "        out = self.relu_1(out)\n",
        "        \n",
        "        ### 2nd hidden layer\n",
        "        out  = self.linear_2(out)\n",
        "        ### Non-linearity in 2nd hidden layer\n",
        "        out = self.relu_2(out)\n",
        "\n",
        "        ### 3rd hidden layer\n",
        "        out  = self.linear_3(out)\n",
        "        ### Non-linearity in 3rd hidden layer\n",
        "        out = self.relu_3(out)\n",
        "\n",
        "        out  = self.linear_4(out)\n",
        "        ### Non-linearity in 3rd hidden layer\n",
        "        out = self.relu_4(out)\n",
        " \n",
        "        out  = self.linear_5(out)\n",
        "        ### Non-linearity in 3rd hidden layer\n",
        "        out = self.relu_5(out)\n",
        " \n",
        "\n",
        "        # Linear layer (output)\n",
        "        probas  = self.linear_out(out)\n",
        "        return probas\n",
        "\n",
        "# INSTANTIATE MODEL CLASS\n",
        "\n",
        "model = DeepNeuralNetworkModel(input_size = input_dim,\n",
        "                               num_classes = output_dim,\n",
        "                               num_hidden = 128)\n",
        "# To enable GPU\n",
        "model.to(device)\n",
        "\n",
        "# INSTANTIATE LOSS & OPTIMIZER CLASS\n",
        "\n",
        "criterion = nn.CrossEntropyLoss()\n",
        "optimizer = torch.optim.Adam(model.parameters(), lr=learning_rate)\n",
        "iteration_loss = []\n",
        "iter = 0\n",
        "for epoch in range(num_epochs):\n",
        "    for i, (images, labels) in enumerate(train_loader):\n",
        "\n",
        "        images = images.view(-1, 28*28).to(device)\n",
        "        labels = labels.to(device)\n",
        "\n",
        "        # Clear gradients w.r.t. parameters\n",
        "        optimizer.zero_grad()\n",
        "\n",
        "        # Forward pass to get output/logits\n",
        "        outputs = model(images.float())\n",
        "\n",
        "        # Calculate Loss: softmax --> cross entropy loss\n",
        "        loss = criterion(outputs, labels)\n",
        "\n",
        "        # Getting gradients w.r.t. parameters\n",
        "        loss.backward()\n",
        "\n",
        "        # Updating parameters\n",
        "        optimizer.step()\n",
        "\n",
        "        iter += 1\n",
        "\n",
        "        if iter % 500 == 0:\n",
        "            # Calculate Accuracy         \n",
        "            correct = 0\n",
        "            total = 0\n",
        "            # Iterate through test dataset\n",
        "            for images, labels in test_loader:\n",
        "               \n",
        "                images = images.view(-1, 28*28).to(device)\n",
        "\n",
        "                # Forward pass only to get logits/output\n",
        "                outputs = model(images.float())\n",
        "\n",
        "                # Get predictions from the maximum value\n",
        "                _, predicted = torch.max(outputs, 1)\n",
        "\n",
        "                # Total number of labels\n",
        "                total += labels.size(0)\n",
        "\n",
        "\n",
        "                # Total correct predictions\n",
        "                if torch.cuda.is_available():\n",
        "                    correct += (predicted.cpu() == labels.cpu()).sum() \n",
        "                else:\n",
        "                    correct += (predicted == labels).sum()\n",
        "\n",
        "            accuracy = 100 * correct.item() / total\n",
        "             \n",
        " \n",
        "            # Print Loss\n",
        "            iteration_loss.append(loss.item())\n",
        "        \n",
        "           \n",
        "            print('Iteration: {}. Loss: {}. Accuracy: {}'.format(iter, loss.item(), accuracy))"
      ],
      "execution_count": null,
      "outputs": [
        {
          "output_type": "stream",
          "name": "stdout",
          "text": [
            "Iteration: 500. Loss: 0.705984890460968. Accuracy: 76.17857142857143\n",
            "Iteration: 1000. Loss: 0.5075041055679321. Accuracy: 78.45\n",
            "Iteration: 1500. Loss: 0.5309188961982727. Accuracy: 82.07857142857142\n",
            "Iteration: 2000. Loss: 0.5887181758880615. Accuracy: 83.72142857142858\n",
            "Iteration: 2500. Loss: 0.3769605755805969. Accuracy: 83.02857142857142\n",
            "Iteration: 3000. Loss: 0.3639616072177887. Accuracy: 84.29285714285714\n",
            "Iteration: 3500. Loss: 0.4245072901248932. Accuracy: 84.37857142857143\n",
            "Iteration: 4000. Loss: 0.43633610010147095. Accuracy: 85.67142857142858\n",
            "Iteration: 4500. Loss: 0.2933082580566406. Accuracy: 86.61428571428571\n",
            "Iteration: 5000. Loss: 0.3623334467411041. Accuracy: 86.43571428571428\n",
            "Iteration: 5500. Loss: 0.2845797836780548. Accuracy: 86.67857142857143\n",
            "Iteration: 6000. Loss: 0.602702260017395. Accuracy: 87.07857142857142\n",
            "Iteration: 6500. Loss: 0.25361043214797974. Accuracy: 87.1\n",
            "Iteration: 7000. Loss: 0.3110619783401489. Accuracy: 86.7\n",
            "Iteration: 7500. Loss: 0.19692081212997437. Accuracy: 87.48571428571428\n",
            "Iteration: 8000. Loss: 0.29815176129341125. Accuracy: 86.89285714285714\n",
            "Iteration: 8500. Loss: 0.27178823947906494. Accuracy: 88.02857142857142\n",
            "Iteration: 9000. Loss: 0.21917663514614105. Accuracy: 87.75714285714285\n",
            "Iteration: 9500. Loss: 0.36403313279151917. Accuracy: 88.09285714285714\n",
            "Iteration: 10000. Loss: 0.2717604339122772. Accuracy: 87.90714285714286\n",
            "Iteration: 10500. Loss: 0.32493695616722107. Accuracy: 87.52142857142857\n",
            "Iteration: 11000. Loss: 0.4129851162433624. Accuracy: 87.81428571428572\n",
            "Iteration: 11500. Loss: 0.46388062834739685. Accuracy: 87.78571428571429\n",
            "Iteration: 12000. Loss: 0.34818050265312195. Accuracy: 88.43571428571428\n",
            "Iteration: 12500. Loss: 0.2982974350452423. Accuracy: 88.29285714285714\n",
            "Iteration: 13000. Loss: 0.33810245990753174. Accuracy: 88.32857142857142\n",
            "Iteration: 13500. Loss: 0.31348952651023865. Accuracy: 88.42857142857143\n",
            "Iteration: 14000. Loss: 0.35433241724967957. Accuracy: 88.17857142857143\n",
            "Iteration: 14500. Loss: 0.41475582122802734. Accuracy: 87.75714285714285\n",
            "Iteration: 15000. Loss: 0.3224165737628937. Accuracy: 87.76428571428572\n",
            "Iteration: 15500. Loss: 0.22224998474121094. Accuracy: 88.02142857142857\n",
            "Iteration: 16000. Loss: 0.30302953720092773. Accuracy: 88.27857142857142\n",
            "Iteration: 16500. Loss: 0.2255154252052307. Accuracy: 88.73571428571428\n",
            "Iteration: 17000. Loss: 0.2296113818883896. Accuracy: 87.58571428571429\n",
            "Iteration: 17500. Loss: 0.25247836112976074. Accuracy: 87.75\n",
            "Iteration: 18000. Loss: 0.3377040922641754. Accuracy: 88.2\n",
            "Iteration: 18500. Loss: 0.2495511770248413. Accuracy: 88.61428571428571\n",
            "Iteration: 19000. Loss: 0.31549736857414246. Accuracy: 88.67857142857143\n",
            "Iteration: 19500. Loss: 0.32470446825027466. Accuracy: 88.67142857142858\n",
            "Iteration: 20000. Loss: 0.20124444365501404. Accuracy: 87.0\n",
            "Iteration: 20500. Loss: 0.326680064201355. Accuracy: 88.97142857142858\n",
            "Iteration: 21000. Loss: 0.22942140698432922. Accuracy: 88.36428571428571\n",
            "Iteration: 21500. Loss: 0.2848716676235199. Accuracy: 88.87857142857143\n",
            "Iteration: 22000. Loss: 0.2517300844192505. Accuracy: 88.59285714285714\n",
            "Iteration: 22500. Loss: 0.14029665291309357. Accuracy: 89.1\n",
            "Iteration: 23000. Loss: 0.35370999574661255. Accuracy: 88.28571428571429\n",
            "Iteration: 23500. Loss: 0.2694847583770752. Accuracy: 89.35714285714286\n",
            "Iteration: 24000. Loss: 0.3574984073638916. Accuracy: 88.64285714285714\n",
            "Iteration: 24500. Loss: 0.17239078879356384. Accuracy: 88.92142857142858\n",
            "Iteration: 25000. Loss: 0.2784855365753174. Accuracy: 88.72142857142858\n",
            "Iteration: 25500. Loss: 0.2387966364622116. Accuracy: 89.17142857142858\n",
            "Iteration: 26000. Loss: 0.3392660915851593. Accuracy: 87.70714285714286\n",
            "Iteration: 26500. Loss: 0.1625148355960846. Accuracy: 88.82142857142857\n",
            "Iteration: 27000. Loss: 0.23933610320091248. Accuracy: 88.70714285714286\n",
            "Iteration: 27500. Loss: 0.2928268015384674. Accuracy: 88.01428571428572\n",
            "Iteration: 28000. Loss: 0.2855750322341919. Accuracy: 89.12142857142857\n",
            "Iteration: 28500. Loss: 0.16541437804698944. Accuracy: 88.87142857142857\n",
            "Iteration: 29000. Loss: 0.2047806680202484. Accuracy: 89.14285714285714\n",
            "Iteration: 29500. Loss: 0.27675768733024597. Accuracy: 89.03571428571429\n"
          ]
        }
      ]
    },
    {
      "cell_type": "code",
      "metadata": {
        "colab": {
          "base_uri": "https://localhost:8080/",
          "height": 279
        },
        "id": "NBvaZlJ1-ata",
        "outputId": "bafcf7de-146a-40bf-ab6c-f81ca2d9b532"
      },
      "source": [
        "plt.plot(iteration_loss)\n",
        "plt.ylabel('Cross Entropy Loss')\n",
        "plt.xlabel('Iteration (in every 500)')\n",
        "plt.show()"
      ],
      "execution_count": null,
      "outputs": [
        {
          "output_type": "display_data",
          "data": {
            "image/png": "[encoded data removed]",
            "text/plain": [
              "<Figure size 432x288 with 1 Axes>"
            ]
          },
          "metadata": {
            "needs_background": "light"
          }
        }
      ]
    },
    {
      "cell_type": "markdown",
      "metadata": {
        "id": "P6sfokStAPk1"
      },
      "source": [
        "170104016_exp_03_02"
      ]
    },
    {
      "cell_type": "code",
      "metadata": {
        "id": "g21fR1tg-gso"
      },
      "source": [
        "import torch\n",
        "import torch.nn as nn\n",
        "import torchvision.transforms as transforms\n",
        "import torchvision.datasets as dsets\n",
        "\n",
        "# Hyperparameters\n",
        "batch_size = 150\n",
        "num_iters = 50000\n",
        "input_dim = 28*28 # num_features = 784\n",
        "num_hidden = 200\n",
        "output_dim = 10\n",
        "num_epochs = num_iters / (len(train_dataset) / batch_size)\n",
        "num_epochs = int(num_epochs)\n",
        "learning_rate = 0.01\n",
        "\n",
        "# Device\n",
        "device = torch.device(\"cuda:0\" if torch.cuda.is_available() else \"cpu\")\n",
        "\n",
        "\n",
        "\n",
        "\n",
        "num_epochs = num_iters / (len(train_dataset) / batch_size)\n",
        "num_epochs = int(num_epochs)\n",
        "\n",
        "train_loader = torch.utils.data.DataLoader(dataset=train_dataset, \n",
        "                                           batch_size=batch_size, \n",
        "                                           shuffle=True)   # It's better to shuffle the whole training dataset! \n",
        "\n",
        "test_loader = torch.utils.data.DataLoader(dataset=test_dataset, \n",
        "                                          batch_size=batch_size, \n",
        "                                          shuffle=False) "
      ],
      "execution_count": null,
      "outputs": []
    },
    {
      "cell_type": "code",
      "metadata": {
        "colab": {
          "base_uri": "https://localhost:8080/"
        },
        "id": "mn0dzawd_d10",
        "outputId": "8ea13b89-1a6c-4907-e6f5-433b9ff118ac"
      },
      "source": [
        "class DeepNeuralNetworkModel(nn.Module):\n",
        "    def __init__(self, input_size, num_classes, num_hidden):\n",
        "        super().__init__()\n",
        "      \n",
        "        self.linear_1 = nn.Linear(input_size, num_hidden)\n",
        "       \n",
        "        self.relu_1 = nn.ReLU()\n",
        "\n",
        "        \n",
        "        self.linear_2 = nn.Linear(num_hidden, num_hidden)\n",
        "       \n",
        "        self.relu_2 = nn.ReLU()\n",
        "\n",
        "        self.linear_3 = nn.Linear(num_hidden, num_hidden)\n",
        "      \n",
        "        self.relu_3 = nn.ReLU()\n",
        "\n",
        "        self.linear_4 = nn.Linear(num_hidden, num_hidden)\n",
        "        \n",
        "        self.relu_4 = nn.ReLU()\n",
        " \n",
        " \n",
        "        ### Output layer: 100 --> 10\n",
        "        self.linear_out = nn.Linear(num_hidden, num_classes)\n",
        "\n",
        "    def forward(self, x):\n",
        "        ### 1st hidden layer\n",
        "        out  = self.linear_1(x)\n",
        "        ### Non-linearity in 1st hidden layer\n",
        "        out = self.relu_1(out)\n",
        "        \n",
        "        ### 2nd hidden layer\n",
        "        out  = self.linear_2(out)\n",
        "        ### Non-linearity in 2nd hidden layer\n",
        "        out = self.relu_2(out)\n",
        "\n",
        "        ### 3rd hidden layer\n",
        "        out  = self.linear_3(out)\n",
        "        ### Non-linearity in 3rd hidden layer\n",
        "        out = self.relu_3(out)\n",
        "\n",
        "        out  = self.linear_4(out)\n",
        "        ### Non-linearity in 3rd hidden layer\n",
        "        out = self.relu_4(out)\n",
        " \n",
        "\n",
        "        # Linear layer (output)\n",
        "        probas  = self.linear_out(out)\n",
        "        return probas\n",
        "\n",
        "# INSTANTIATE MODEL CLASS\n",
        "\n",
        "model = DeepNeuralNetworkModel(input_size = input_dim,\n",
        "                               num_classes = output_dim,\n",
        "                               num_hidden = 128)\n",
        "# To enable GPU\n",
        "model.to(device)\n",
        "\n",
        "# INSTANTIATE LOSS & OPTIMIZER CLASS\n",
        "\n",
        "criterion = nn.CrossEntropyLoss()\n",
        "optimizer = torch.optim.Adam(model.parameters(), lr=learning_rate)\n",
        "iteration_loss = []\n",
        "iter = 0\n",
        "for epoch in range(num_epochs):\n",
        "    for i, (images, labels) in enumerate(train_loader):\n",
        "\n",
        "        images = images.view(-1, 28*28).to(device)\n",
        "        labels = labels.to(device)\n",
        "\n",
        "        # Clear gradients w.r.t. parameters\n",
        "        optimizer.zero_grad()\n",
        "\n",
        "        # Forward pass to get output/logits\n",
        "        outputs = model(images.float())\n",
        "\n",
        "        # Calculate Loss: softmax --> cross entropy loss\n",
        "        loss = criterion(outputs, labels)\n",
        "\n",
        "        # Getting gradients w.r.t. parameters\n",
        "        loss.backward()\n",
        "\n",
        "        # Updating parameters\n",
        "        optimizer.step()\n",
        "\n",
        "        iter += 1\n",
        "\n",
        "        if iter % 500 == 0:\n",
        "            # Calculate Accuracy         \n",
        "            correct = 0\n",
        "            total = 0\n",
        "            # Iterate through test dataset\n",
        "            for images, labels in test_loader:\n",
        "               \n",
        "                images = images.view(-1, 28*28).to(device)\n",
        "\n",
        "                # Forward pass only to get logits/output\n",
        "                outputs = model(images.float())\n",
        "\n",
        "                # Get predictions from the maximum value\n",
        "                _, predicted = torch.max(outputs, 1)\n",
        "\n",
        "                # Total number of labels\n",
        "                total += labels.size(0)\n",
        "\n",
        "\n",
        "                # Total correct predictions\n",
        "                if torch.cuda.is_available():\n",
        "                    correct += (predicted.cpu() == labels.cpu()).sum() \n",
        "                else:\n",
        "                    correct += (predicted == labels).sum()\n",
        "\n",
        "            accuracy = 100 * correct.item() / total\n",
        "             \n",
        " \n",
        "            # Print Loss\n",
        "            iteration_loss.append(loss.item())\n",
        "        \n",
        "           \n",
        "            print('Iteration: {}. Loss: {}. Accuracy: {}'.format(iter, loss.item(), accuracy))"
      ],
      "execution_count": null,
      "outputs": [
        {
          "output_type": "stream",
          "name": "stdout",
          "text": [
            "Iteration: 500. Loss: 0.5764885544776917. Accuracy: 79.28571428571429\n",
            "Iteration: 1000. Loss: 0.534240186214447. Accuracy: 82.43571428571428\n",
            "Iteration: 1500. Loss: 0.4668486416339874. Accuracy: 83.57142857142857\n",
            "Iteration: 2000. Loss: 0.26871800422668457. Accuracy: 86.57142857142857\n",
            "Iteration: 2500. Loss: 0.34809836745262146. Accuracy: 86.86428571428571\n",
            "Iteration: 3000. Loss: 0.37079334259033203. Accuracy: 85.86428571428571\n",
            "Iteration: 3500. Loss: 0.26226896047592163. Accuracy: 86.85\n",
            "Iteration: 4000. Loss: 0.3396276831626892. Accuracy: 86.35\n",
            "Iteration: 4500. Loss: 0.5347943902015686. Accuracy: 87.64285714285714\n",
            "Iteration: 5000. Loss: 0.2710442543029785. Accuracy: 86.97142857142858\n",
            "Iteration: 5500. Loss: 0.2888990640640259. Accuracy: 88.80714285714286\n",
            "Iteration: 6000. Loss: 0.26771214604377747. Accuracy: 87.49285714285715\n",
            "Iteration: 6500. Loss: 0.29954174160957336. Accuracy: 86.74285714285715\n",
            "Iteration: 7000. Loss: 0.2603972256183624. Accuracy: 88.77142857142857\n",
            "Iteration: 7500. Loss: 0.27830469608306885. Accuracy: 88.38571428571429\n",
            "Iteration: 8000. Loss: 0.2036677449941635. Accuracy: 87.42857142857143\n",
            "Iteration: 8500. Loss: 0.2552545964717865. Accuracy: 87.90714285714286\n",
            "Iteration: 9000. Loss: 0.24372856318950653. Accuracy: 88.33571428571429\n",
            "Iteration: 9500. Loss: 0.3137202560901642. Accuracy: 88.09285714285714\n",
            "Iteration: 10000. Loss: 0.23922967910766602. Accuracy: 89.30714285714286\n",
            "Iteration: 10500. Loss: 0.22568544745445251. Accuracy: 89.04285714285714\n",
            "Iteration: 11000. Loss: 0.32827457785606384. Accuracy: 88.60714285714286\n",
            "Iteration: 11500. Loss: 0.3197980523109436. Accuracy: 87.67857142857143\n",
            "Iteration: 12000. Loss: 0.2393452525138855. Accuracy: 88.39285714285714\n",
            "Iteration: 12500. Loss: 0.28727084398269653. Accuracy: 88.97857142857143\n",
            "Iteration: 13000. Loss: 0.18248175084590912. Accuracy: 88.78571428571429\n",
            "Iteration: 13500. Loss: 0.3416471481323242. Accuracy: 88.65714285714286\n",
            "Iteration: 14000. Loss: 0.1295272260904312. Accuracy: 89.2\n",
            "Iteration: 14500. Loss: 0.24183034896850586. Accuracy: 87.66428571428571\n",
            "Iteration: 15000. Loss: 0.3289893567562103. Accuracy: 89.28571428571429\n",
            "Iteration: 15500. Loss: 0.28195980191230774. Accuracy: 89.63571428571429\n",
            "Iteration: 16000. Loss: 0.24846239387989044. Accuracy: 89.6\n",
            "Iteration: 16500. Loss: 0.18978963792324066. Accuracy: 89.17142857142858\n",
            "Iteration: 17000. Loss: 0.2161225825548172. Accuracy: 89.74285714285715\n",
            "Iteration: 17500. Loss: 0.3266996443271637. Accuracy: 89.25\n",
            "Iteration: 18000. Loss: 0.2970193922519684. Accuracy: 89.13571428571429\n",
            "Iteration: 18500. Loss: 0.26706963777542114. Accuracy: 88.44285714285714\n",
            "Iteration: 19000. Loss: 0.394309401512146. Accuracy: 88.85714285714286\n",
            "Iteration: 19500. Loss: 0.19139571487903595. Accuracy: 89.32142857142857\n",
            "Iteration: 20000. Loss: 0.1931007355451584. Accuracy: 89.25714285714285\n",
            "Iteration: 20500. Loss: 0.29620006680488586. Accuracy: 88.65\n",
            "Iteration: 21000. Loss: 0.19823814928531647. Accuracy: 89.6\n",
            "Iteration: 21500. Loss: 0.1905822902917862. Accuracy: 89.6\n",
            "Iteration: 22000. Loss: 0.283207505941391. Accuracy: 89.35\n",
            "Iteration: 22500. Loss: 0.2698899507522583. Accuracy: 88.6\n",
            "Iteration: 23000. Loss: 0.1587129533290863. Accuracy: 89.85714285714286\n",
            "Iteration: 23500. Loss: 0.2819562256336212. Accuracy: 89.85714285714286\n",
            "Iteration: 24000. Loss: 0.22432143986225128. Accuracy: 88.65714285714286\n",
            "Iteration: 24500. Loss: 0.26265084743499756. Accuracy: 89.34285714285714\n",
            "Iteration: 25000. Loss: 0.16829730570316315. Accuracy: 89.12142857142857\n",
            "Iteration: 25500. Loss: 0.11085334420204163. Accuracy: 88.96428571428571\n",
            "Iteration: 26000. Loss: 0.1456591933965683. Accuracy: 89.22857142857143\n",
            "Iteration: 26500. Loss: 0.18739807605743408. Accuracy: 89.47857142857143\n",
            "Iteration: 27000. Loss: 0.15318059921264648. Accuracy: 89.65\n",
            "Iteration: 27500. Loss: 0.19757556915283203. Accuracy: 88.91428571428571\n",
            "Iteration: 28000. Loss: 0.19215726852416992. Accuracy: 89.71428571428571\n",
            "Iteration: 28500. Loss: 0.17576651275157928. Accuracy: 88.76428571428572\n",
            "Iteration: 29000. Loss: 0.20429039001464844. Accuracy: 89.08571428571429\n",
            "Iteration: 29500. Loss: 0.16311994194984436. Accuracy: 89.29285714285714\n",
            "Iteration: 30000. Loss: 0.2095009982585907. Accuracy: 89.37857142857143\n",
            "Iteration: 30500. Loss: 0.17413367331027985. Accuracy: 89.33571428571429\n",
            "Iteration: 31000. Loss: 0.09406410902738571. Accuracy: 88.84285714285714\n",
            "Iteration: 31500. Loss: 0.14538739621639252. Accuracy: 88.61428571428571\n",
            "Iteration: 32000. Loss: 0.24207575619220734. Accuracy: 89.26428571428572\n",
            "Iteration: 32500. Loss: 0.2522564232349396. Accuracy: 89.35\n",
            "Iteration: 33000. Loss: 0.13244850933551788. Accuracy: 89.37142857142857\n",
            "Iteration: 33500. Loss: 0.17561514675617218. Accuracy: 89.26428571428572\n",
            "Iteration: 34000. Loss: 0.1896858662366867. Accuracy: 88.50714285714285\n",
            "Iteration: 34500. Loss: 0.16451115906238556. Accuracy: 87.91428571428571\n",
            "Iteration: 35000. Loss: 0.17692190408706665. Accuracy: 89.31428571428572\n",
            "Iteration: 35500. Loss: 0.16631053388118744. Accuracy: 89.24285714285715\n",
            "Iteration: 36000. Loss: 0.16657833755016327. Accuracy: 89.14285714285714\n",
            "Iteration: 36500. Loss: 0.17448940873146057. Accuracy: 89.39285714285714\n",
            "Iteration: 37000. Loss: 0.1591794639825821. Accuracy: 89.39285714285714\n",
            "Iteration: 37500. Loss: 0.19032491743564606. Accuracy: 89.07142857142857\n",
            "Iteration: 38000. Loss: 0.19658534228801727. Accuracy: 89.69285714285714\n",
            "Iteration: 38500. Loss: 0.076344795525074. Accuracy: 89.23571428571428\n",
            "Iteration: 39000. Loss: 0.2699834406375885. Accuracy: 89.04285714285714\n",
            "Iteration: 39500. Loss: 0.12566472589969635. Accuracy: 89.25714285714285\n",
            "Iteration: 40000. Loss: 0.12184730172157288. Accuracy: 88.74285714285715\n",
            "Iteration: 40500. Loss: 0.18128448724746704. Accuracy: 89.30714285714286\n",
            "Iteration: 41000. Loss: 0.14284510910511017. Accuracy: 89.40714285714286\n",
            "Iteration: 41500. Loss: 0.24023747444152832. Accuracy: 89.55714285714286\n",
            "Iteration: 42000. Loss: 0.12237174808979034. Accuracy: 89.7\n",
            "Iteration: 42500. Loss: 0.10449685901403427. Accuracy: 89.83571428571429\n",
            "Iteration: 43000. Loss: 0.17949534952640533. Accuracy: 89.01428571428572\n",
            "Iteration: 43500. Loss: 0.09069573879241943. Accuracy: 89.52142857142857\n",
            "Iteration: 44000. Loss: 0.19165745377540588. Accuracy: 89.1\n",
            "Iteration: 44500. Loss: 0.13560089468955994. Accuracy: 89.1\n",
            "Iteration: 45000. Loss: 0.2350509911775589. Accuracy: 87.56428571428572\n",
            "Iteration: 45500. Loss: 0.12903621792793274. Accuracy: 89.22142857142858\n",
            "Iteration: 46000. Loss: 0.20368613302707672. Accuracy: 89.06428571428572\n",
            "Iteration: 46500. Loss: 0.16319799423217773. Accuracy: 89.55714285714286\n",
            "Iteration: 47000. Loss: 0.15786513686180115. Accuracy: 89.28571428571429\n",
            "Iteration: 47500. Loss: 0.2250176966190338. Accuracy: 89.11428571428571\n",
            "Iteration: 48000. Loss: 0.32592979073524475. Accuracy: 88.67142857142858\n",
            "Iteration: 48500. Loss: 0.24119000136852264. Accuracy: 88.95\n",
            "Iteration: 49000. Loss: 0.2182454913854599. Accuracy: 88.64285714285714\n",
            "Iteration: 49500. Loss: 0.0784028023481369. Accuracy: 89.50714285714285\n"
          ]
        }
      ]
    }
  ]
}